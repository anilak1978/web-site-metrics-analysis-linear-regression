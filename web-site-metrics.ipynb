{
 "cells": [
  {
   "cell_type": "markdown",
   "metadata": {},
   "source": [
    "# Introduction\n",
    "\n",
    "Our objective in this analysis is to review the current user engagement to X.com, find correletation between differnt metics and see if we can create a predictive model using simple linear regression. The business end goal is to answer what needs to be done in order to improve the revenue. "
   ]
  },
  {
   "cell_type": "markdown",
   "metadata": {},
   "source": [
    "# Table of Contents\n",
    "\n",
    "1 - Introduction\n",
    "\n",
    "2- About the Data Set\n",
    "\n",
    "3- Data Collection and Understanding\n",
    "\n",
    "4- Data Wrangling\n",
    "\n",
    "5- Data Exploration\n",
    "\n",
    "6- Model Development\n",
    "\n",
    "7- Model Evaluation\n",
    "\n",
    "8- Conclusion"
   ]
  },
  {
   "cell_type": "markdown",
   "metadata": {},
   "source": [
    "# About the Data Set\n",
    "\n",
    "The data is collected from X.com Google Analytics Web Reporting Platform in a csv format. The collection can be done via Big Query however in this analysis we will use the csv file exported from GA360.\n",
    "\n",
    "The description of the variables are as follows:\n",
    "\n",
    "**Client Id: Google Analytics cookie that is unique to each user and lasts approximately 2 years.**\n",
    "\n",
    "**Sessions: A session is a group of user interactions with the website that take place within a given time frame. Single session can contain multiple page views, events, social interactions, and ecommerce transactions.**\n",
    "\n",
    "**Avg. Session Duration: Average session duration is: total duration of all sessions (in seconds) / number of sessions.**\n",
    "\n",
    "**Bounce Rate: Bounce rate is single-page sessions divided by all sessions, or the percentage of all sessions on your site in which users viewed only a single page and triggered only a single request to the Analytics server.**\n",
    "\n",
    "**Revenue: Revenue in dollars** \n",
    "\n",
    "**Transaction: Number of Transactions via the website**\n",
    "\n",
    "**Goal Converstion Rate: Track of specific user interactions on your site. These user interactions can be anything including form submissions, button clicks, ebook downloads, and more.**"
   ]
  },
  {
   "cell_type": "markdown",
   "metadata": {},
   "source": [
    "# Data Collection and Understanding "
   ]
  },
  {
   "cell_type": "code",
   "execution_count": 1,
   "metadata": {},
   "outputs": [],
   "source": [
    "# import neccessary libraries\n",
    "import pandas as pd\n",
    "import numpy as np"
   ]
  },
  {
   "cell_type": "code",
   "execution_count": 2,
   "metadata": {},
   "outputs": [],
   "source": [
    "# import the data and create the dataframe\n",
    "df=pd.read_csv('website_data.csv', skiprows=range(6))"
   ]
  },
  {
   "cell_type": "code",
   "execution_count": 3,
   "metadata": {},
   "outputs": [
    {
     "data": {
      "text/html": [
       "<div>\n",
       "<style scoped>\n",
       "    .dataframe tbody tr th:only-of-type {\n",
       "        vertical-align: middle;\n",
       "    }\n",
       "\n",
       "    .dataframe tbody tr th {\n",
       "        vertical-align: top;\n",
       "    }\n",
       "\n",
       "    .dataframe thead th {\n",
       "        text-align: right;\n",
       "    }\n",
       "</style>\n",
       "<table border=\"1\" class=\"dataframe\">\n",
       "  <thead>\n",
       "    <tr style=\"text-align: right;\">\n",
       "      <th></th>\n",
       "      <th>Client Id</th>\n",
       "      <th>Sessions</th>\n",
       "      <th>Avg. Session Duration</th>\n",
       "      <th>Bounce Rate</th>\n",
       "      <th>Revenue</th>\n",
       "      <th>Transactions</th>\n",
       "      <th>Goal Conversion Rate</th>\n",
       "    </tr>\n",
       "  </thead>\n",
       "  <tbody>\n",
       "    <tr>\n",
       "      <th>0</th>\n",
       "      <td>1.216956e+09</td>\n",
       "      <td>120</td>\n",
       "      <td>00:17:48</td>\n",
       "      <td>1.67%</td>\n",
       "      <td>$54,632.64</td>\n",
       "      <td>11</td>\n",
       "      <td>65.00%</td>\n",
       "    </tr>\n",
       "    <tr>\n",
       "      <th>1</th>\n",
       "      <td>9.071024e+08</td>\n",
       "      <td>4</td>\n",
       "      <td>00:14:40</td>\n",
       "      <td>50.00%</td>\n",
       "      <td>$18,615.84</td>\n",
       "      <td>4</td>\n",
       "      <td>175.00%</td>\n",
       "    </tr>\n",
       "    <tr>\n",
       "      <th>2</th>\n",
       "      <td>8.335800e+08</td>\n",
       "      <td>55</td>\n",
       "      <td>00:07:04</td>\n",
       "      <td>34.55%</td>\n",
       "      <td>$13,954.70</td>\n",
       "      <td>11</td>\n",
       "      <td>61.82%</td>\n",
       "    </tr>\n",
       "    <tr>\n",
       "      <th>3</th>\n",
       "      <td>5.955907e+08</td>\n",
       "      <td>18</td>\n",
       "      <td>00:10:28</td>\n",
       "      <td>11.11%</td>\n",
       "      <td>$11,391.00</td>\n",
       "      <td>2</td>\n",
       "      <td>144.44%</td>\n",
       "    </tr>\n",
       "    <tr>\n",
       "      <th>4</th>\n",
       "      <td>7.223030e+07</td>\n",
       "      <td>32</td>\n",
       "      <td>00:07:35</td>\n",
       "      <td>0.00%</td>\n",
       "      <td>$7,238.45</td>\n",
       "      <td>5</td>\n",
       "      <td>100.00%</td>\n",
       "    </tr>\n",
       "  </tbody>\n",
       "</table>\n",
       "</div>"
      ],
      "text/plain": [
       "      Client Id  Sessions Avg. Session Duration Bounce Rate     Revenue  \\\n",
       "0  1.216956e+09       120              00:17:48       1.67%  $54,632.64   \n",
       "1  9.071024e+08         4              00:14:40      50.00%  $18,615.84   \n",
       "2  8.335800e+08        55              00:07:04      34.55%  $13,954.70   \n",
       "3  5.955907e+08        18              00:10:28      11.11%  $11,391.00   \n",
       "4  7.223030e+07        32              00:07:35       0.00%   $7,238.45   \n",
       "\n",
       "   Transactions Goal Conversion Rate  \n",
       "0            11               65.00%  \n",
       "1             4              175.00%  \n",
       "2            11               61.82%  \n",
       "3             2              144.44%  \n",
       "4             5              100.00%  "
      ]
     },
     "execution_count": 3,
     "metadata": {},
     "output_type": "execute_result"
    }
   ],
   "source": [
    "# lets look at the overview of our data\n",
    "df.head(5)"
   ]
  },
  {
   "cell_type": "code",
   "execution_count": 4,
   "metadata": {},
   "outputs": [
    {
     "name": "stdout",
     "output_type": "stream",
     "text": [
      "Client Id\n",
      "False    5000\n",
      "Name: Client Id, dtype: int64\n",
      "\n",
      "Sessions\n",
      "False    5000\n",
      "Name: Sessions, dtype: int64\n",
      "\n",
      "Avg. Session Duration\n",
      "False    5000\n",
      "Name: Avg. Session Duration, dtype: int64\n",
      "\n",
      "Bounce Rate\n",
      "False    5000\n",
      "Name: Bounce Rate, dtype: int64\n",
      "\n",
      "Revenue\n",
      "False    5000\n",
      "Name: Revenue, dtype: int64\n",
      "\n",
      "Transactions\n",
      "False    5000\n",
      "Name: Transactions, dtype: int64\n",
      "\n",
      "Goal Conversion Rate\n",
      "False    5000\n",
      "Name: Goal Conversion Rate, dtype: int64\n",
      "\n"
     ]
    }
   ],
   "source": [
    "# lets see if there are any missing data\n",
    "missing_data=df.isnull()\n",
    "for column in missing_data.columns.values.tolist():\n",
    "    print(column)\n",
    "    print(missing_data[column].value_counts())\n",
    "    print('')"
   ]
  },
  {
   "cell_type": "code",
   "execution_count": 6,
   "metadata": {},
   "outputs": [
    {
     "data": {
      "text/plain": [
       "(5000, 7)"
      ]
     },
     "execution_count": 6,
     "metadata": {},
     "output_type": "execute_result"
    }
   ],
   "source": [
    "# lets look at the shape of our data\n",
    "df.shape"
   ]
  },
  {
   "cell_type": "code",
   "execution_count": 7,
   "metadata": {},
   "outputs": [
    {
     "data": {
      "text/plain": [
       "Client Id                float64\n",
       "Sessions                   int64\n",
       "Avg. Session Duration     object\n",
       "Bounce Rate               object\n",
       "Revenue                   object\n",
       "Transactions               int64\n",
       "Goal Conversion Rate      object\n",
       "dtype: object"
      ]
     },
     "execution_count": 7,
     "metadata": {},
     "output_type": "execute_result"
    }
   ],
   "source": [
    "# lets look at the data types in our variables\n",
    "df.dtypes"
   ]
  },
  {
   "cell_type": "code",
   "execution_count": 8,
   "metadata": {},
   "outputs": [
    {
     "name": "stdout",
     "output_type": "stream",
     "text": [
      "<class 'pandas.core.frame.DataFrame'>\n",
      "RangeIndex: 5000 entries, 0 to 4999\n",
      "Data columns (total 7 columns):\n",
      "Client Id                5000 non-null float64\n",
      "Sessions                 5000 non-null int64\n",
      "Avg. Session Duration    5000 non-null object\n",
      "Bounce Rate              5000 non-null object\n",
      "Revenue                  5000 non-null object\n",
      "Transactions             5000 non-null int64\n",
      "Goal Conversion Rate     5000 non-null object\n",
      "dtypes: float64(1), int64(2), object(4)\n",
      "memory usage: 273.5+ KB\n"
     ]
    }
   ],
   "source": [
    "df.info()"
   ]
  },
  {
   "cell_type": "markdown",
   "metadata": {},
   "source": [
    "When we look at the data set, we see that;\n",
    "\n",
    "**There are 5000 rows and 7 columns**\n",
    "\n",
    "**Avg. Session Duration is object**\n",
    "\n",
    "**Bounce Rate is object and is percentage**\n",
    "\n",
    "**Revenue is object with $ symbol**\n",
    "\n",
    "**Goal Conversion Rate is percentage and object**"
   ]
  },
  {
   "cell_type": "markdown",
   "metadata": {},
   "source": [
    "#### In order to analyze and create the predictive model properly we need to correct some of the data types and values. \n",
    "\n",
    "**Update Avg. Session Duration so it shows as total seconds.**\n",
    "**Convert object data types to numeric type (float and integer) so we can use them in our analysis and model development.**"
   ]
  },
  {
   "cell_type": "markdown",
   "metadata": {},
   "source": [
    "# Data Wrangling"
   ]
  },
  {
   "cell_type": "code",
   "execution_count": 9,
   "metadata": {},
   "outputs": [],
   "source": [
    "# create a function to convert percentage to float\n",
    "def p2f(x):\n",
    "    return float(x.strip('%'))/100"
   ]
  },
  {
   "cell_type": "code",
   "execution_count": 11,
   "metadata": {},
   "outputs": [],
   "source": [
    "# update the dataframe\n",
    "df=pd.read_csv('website_data.csv', skiprows=range(6), converters={'Bounce Rate': p2f, 'Goal Conversion Rate': p2f})"
   ]
  },
  {
   "cell_type": "code",
   "execution_count": 12,
   "metadata": {},
   "outputs": [
    {
     "data": {
      "text/html": [
       "<div>\n",
       "<style scoped>\n",
       "    .dataframe tbody tr th:only-of-type {\n",
       "        vertical-align: middle;\n",
       "    }\n",
       "\n",
       "    .dataframe tbody tr th {\n",
       "        vertical-align: top;\n",
       "    }\n",
       "\n",
       "    .dataframe thead th {\n",
       "        text-align: right;\n",
       "    }\n",
       "</style>\n",
       "<table border=\"1\" class=\"dataframe\">\n",
       "  <thead>\n",
       "    <tr style=\"text-align: right;\">\n",
       "      <th></th>\n",
       "      <th>Client Id</th>\n",
       "      <th>Sessions</th>\n",
       "      <th>Avg. Session Duration</th>\n",
       "      <th>Bounce Rate</th>\n",
       "      <th>Revenue</th>\n",
       "      <th>Transactions</th>\n",
       "      <th>Goal Conversion Rate</th>\n",
       "    </tr>\n",
       "  </thead>\n",
       "  <tbody>\n",
       "    <tr>\n",
       "      <th>0</th>\n",
       "      <td>1.216956e+09</td>\n",
       "      <td>120</td>\n",
       "      <td>00:17:48</td>\n",
       "      <td>0.0167</td>\n",
       "      <td>$54,632.64</td>\n",
       "      <td>11</td>\n",
       "      <td>0.6500</td>\n",
       "    </tr>\n",
       "    <tr>\n",
       "      <th>1</th>\n",
       "      <td>9.071024e+08</td>\n",
       "      <td>4</td>\n",
       "      <td>00:14:40</td>\n",
       "      <td>0.5000</td>\n",
       "      <td>$18,615.84</td>\n",
       "      <td>4</td>\n",
       "      <td>1.7500</td>\n",
       "    </tr>\n",
       "    <tr>\n",
       "      <th>2</th>\n",
       "      <td>8.335800e+08</td>\n",
       "      <td>55</td>\n",
       "      <td>00:07:04</td>\n",
       "      <td>0.3455</td>\n",
       "      <td>$13,954.70</td>\n",
       "      <td>11</td>\n",
       "      <td>0.6182</td>\n",
       "    </tr>\n",
       "    <tr>\n",
       "      <th>3</th>\n",
       "      <td>5.955907e+08</td>\n",
       "      <td>18</td>\n",
       "      <td>00:10:28</td>\n",
       "      <td>0.1111</td>\n",
       "      <td>$11,391.00</td>\n",
       "      <td>2</td>\n",
       "      <td>1.4444</td>\n",
       "    </tr>\n",
       "    <tr>\n",
       "      <th>4</th>\n",
       "      <td>7.223030e+07</td>\n",
       "      <td>32</td>\n",
       "      <td>00:07:35</td>\n",
       "      <td>0.0000</td>\n",
       "      <td>$7,238.45</td>\n",
       "      <td>5</td>\n",
       "      <td>1.0000</td>\n",
       "    </tr>\n",
       "  </tbody>\n",
       "</table>\n",
       "</div>"
      ],
      "text/plain": [
       "      Client Id  Sessions Avg. Session Duration  Bounce Rate     Revenue  \\\n",
       "0  1.216956e+09       120              00:17:48       0.0167  $54,632.64   \n",
       "1  9.071024e+08         4              00:14:40       0.5000  $18,615.84   \n",
       "2  8.335800e+08        55              00:07:04       0.3455  $13,954.70   \n",
       "3  5.955907e+08        18              00:10:28       0.1111  $11,391.00   \n",
       "4  7.223030e+07        32              00:07:35       0.0000   $7,238.45   \n",
       "\n",
       "   Transactions  Goal Conversion Rate  \n",
       "0            11                0.6500  \n",
       "1             4                1.7500  \n",
       "2            11                0.6182  \n",
       "3             2                1.4444  \n",
       "4             5                1.0000  "
      ]
     },
     "execution_count": 12,
     "metadata": {},
     "output_type": "execute_result"
    }
   ],
   "source": [
    "df.head(5)"
   ]
  },
  {
   "cell_type": "code",
   "execution_count": 13,
   "metadata": {},
   "outputs": [],
   "source": [
    "# update revenue so it is float with no $ sign\n",
    "df[['Revenue']]=df[['Revenue']].replace('[$,]', '', regex=True).astype('float')"
   ]
  },
  {
   "cell_type": "code",
   "execution_count": 14,
   "metadata": {},
   "outputs": [],
   "source": [
    "# update Avg. Session Duration to float and total seconds\n",
    "df['Avg. Session Duration']=pd.to_datetime(df['Avg. Session Duration'], errors='coerce')"
   ]
  },
  {
   "cell_type": "code",
   "execution_count": 15,
   "metadata": {},
   "outputs": [],
   "source": [
    "df['Avg. Session Duration']=pd.to_timedelta(df['Avg. Session Duration'].dt.strftime('%H:%M:%S'), errors='coerce').dt.total_seconds().astype(int)"
   ]
  },
  {
   "cell_type": "code",
   "execution_count": 16,
   "metadata": {},
   "outputs": [
    {
     "data": {
      "text/html": [
       "<div>\n",
       "<style scoped>\n",
       "    .dataframe tbody tr th:only-of-type {\n",
       "        vertical-align: middle;\n",
       "    }\n",
       "\n",
       "    .dataframe tbody tr th {\n",
       "        vertical-align: top;\n",
       "    }\n",
       "\n",
       "    .dataframe thead th {\n",
       "        text-align: right;\n",
       "    }\n",
       "</style>\n",
       "<table border=\"1\" class=\"dataframe\">\n",
       "  <thead>\n",
       "    <tr style=\"text-align: right;\">\n",
       "      <th></th>\n",
       "      <th>Client Id</th>\n",
       "      <th>Sessions</th>\n",
       "      <th>Avg. Session Duration</th>\n",
       "      <th>Bounce Rate</th>\n",
       "      <th>Revenue</th>\n",
       "      <th>Transactions</th>\n",
       "      <th>Goal Conversion Rate</th>\n",
       "    </tr>\n",
       "  </thead>\n",
       "  <tbody>\n",
       "    <tr>\n",
       "      <th>0</th>\n",
       "      <td>1.216956e+09</td>\n",
       "      <td>120</td>\n",
       "      <td>1068</td>\n",
       "      <td>0.0167</td>\n",
       "      <td>54632.64</td>\n",
       "      <td>11</td>\n",
       "      <td>0.6500</td>\n",
       "    </tr>\n",
       "    <tr>\n",
       "      <th>1</th>\n",
       "      <td>9.071024e+08</td>\n",
       "      <td>4</td>\n",
       "      <td>880</td>\n",
       "      <td>0.5000</td>\n",
       "      <td>18615.84</td>\n",
       "      <td>4</td>\n",
       "      <td>1.7500</td>\n",
       "    </tr>\n",
       "    <tr>\n",
       "      <th>2</th>\n",
       "      <td>8.335800e+08</td>\n",
       "      <td>55</td>\n",
       "      <td>424</td>\n",
       "      <td>0.3455</td>\n",
       "      <td>13954.70</td>\n",
       "      <td>11</td>\n",
       "      <td>0.6182</td>\n",
       "    </tr>\n",
       "    <tr>\n",
       "      <th>3</th>\n",
       "      <td>5.955907e+08</td>\n",
       "      <td>18</td>\n",
       "      <td>628</td>\n",
       "      <td>0.1111</td>\n",
       "      <td>11391.00</td>\n",
       "      <td>2</td>\n",
       "      <td>1.4444</td>\n",
       "    </tr>\n",
       "    <tr>\n",
       "      <th>4</th>\n",
       "      <td>7.223030e+07</td>\n",
       "      <td>32</td>\n",
       "      <td>455</td>\n",
       "      <td>0.0000</td>\n",
       "      <td>7238.45</td>\n",
       "      <td>5</td>\n",
       "      <td>1.0000</td>\n",
       "    </tr>\n",
       "  </tbody>\n",
       "</table>\n",
       "</div>"
      ],
      "text/plain": [
       "      Client Id  Sessions  Avg. Session Duration  Bounce Rate   Revenue  \\\n",
       "0  1.216956e+09       120                   1068       0.0167  54632.64   \n",
       "1  9.071024e+08         4                    880       0.5000  18615.84   \n",
       "2  8.335800e+08        55                    424       0.3455  13954.70   \n",
       "3  5.955907e+08        18                    628       0.1111  11391.00   \n",
       "4  7.223030e+07        32                    455       0.0000   7238.45   \n",
       "\n",
       "   Transactions  Goal Conversion Rate  \n",
       "0            11                0.6500  \n",
       "1             4                1.7500  \n",
       "2            11                0.6182  \n",
       "3             2                1.4444  \n",
       "4             5                1.0000  "
      ]
     },
     "execution_count": 16,
     "metadata": {},
     "output_type": "execute_result"
    }
   ],
   "source": [
    "df.head(5)"
   ]
  },
  {
   "cell_type": "markdown",
   "metadata": {},
   "source": [
    "# Data Exploration"
   ]
  },
  {
   "cell_type": "code",
   "execution_count": 17,
   "metadata": {},
   "outputs": [
    {
     "data": {
      "text/html": [
       "<div>\n",
       "<style scoped>\n",
       "    .dataframe tbody tr th:only-of-type {\n",
       "        vertical-align: middle;\n",
       "    }\n",
       "\n",
       "    .dataframe tbody tr th {\n",
       "        vertical-align: top;\n",
       "    }\n",
       "\n",
       "    .dataframe thead th {\n",
       "        text-align: right;\n",
       "    }\n",
       "</style>\n",
       "<table border=\"1\" class=\"dataframe\">\n",
       "  <thead>\n",
       "    <tr style=\"text-align: right;\">\n",
       "      <th></th>\n",
       "      <th>Client Id</th>\n",
       "      <th>Sessions</th>\n",
       "      <th>Avg. Session Duration</th>\n",
       "      <th>Bounce Rate</th>\n",
       "      <th>Revenue</th>\n",
       "      <th>Transactions</th>\n",
       "      <th>Goal Conversion Rate</th>\n",
       "    </tr>\n",
       "  </thead>\n",
       "  <tbody>\n",
       "    <tr>\n",
       "      <th>Client Id</th>\n",
       "      <td>1.000000</td>\n",
       "      <td>-0.007511</td>\n",
       "      <td>0.000379</td>\n",
       "      <td>-0.006400</td>\n",
       "      <td>0.033550</td>\n",
       "      <td>0.005856</td>\n",
       "      <td>-0.004590</td>\n",
       "    </tr>\n",
       "    <tr>\n",
       "      <th>Sessions</th>\n",
       "      <td>-0.007511</td>\n",
       "      <td>1.000000</td>\n",
       "      <td>-0.180569</td>\n",
       "      <td>0.181863</td>\n",
       "      <td>0.318640</td>\n",
       "      <td>0.542989</td>\n",
       "      <td>-0.427249</td>\n",
       "    </tr>\n",
       "    <tr>\n",
       "      <th>Avg. Session Duration</th>\n",
       "      <td>0.000379</td>\n",
       "      <td>-0.180569</td>\n",
       "      <td>1.000000</td>\n",
       "      <td>-0.174716</td>\n",
       "      <td>0.033912</td>\n",
       "      <td>-0.020670</td>\n",
       "      <td>0.464290</td>\n",
       "    </tr>\n",
       "    <tr>\n",
       "      <th>Bounce Rate</th>\n",
       "      <td>-0.006400</td>\n",
       "      <td>0.181863</td>\n",
       "      <td>-0.174716</td>\n",
       "      <td>1.000000</td>\n",
       "      <td>0.033386</td>\n",
       "      <td>0.026292</td>\n",
       "      <td>-0.323158</td>\n",
       "    </tr>\n",
       "    <tr>\n",
       "      <th>Revenue</th>\n",
       "      <td>0.033550</td>\n",
       "      <td>0.318640</td>\n",
       "      <td>0.033912</td>\n",
       "      <td>0.033386</td>\n",
       "      <td>1.000000</td>\n",
       "      <td>0.384126</td>\n",
       "      <td>-0.063508</td>\n",
       "    </tr>\n",
       "    <tr>\n",
       "      <th>Transactions</th>\n",
       "      <td>0.005856</td>\n",
       "      <td>0.542989</td>\n",
       "      <td>-0.020670</td>\n",
       "      <td>0.026292</td>\n",
       "      <td>0.384126</td>\n",
       "      <td>1.000000</td>\n",
       "      <td>-0.087564</td>\n",
       "    </tr>\n",
       "    <tr>\n",
       "      <th>Goal Conversion Rate</th>\n",
       "      <td>-0.004590</td>\n",
       "      <td>-0.427249</td>\n",
       "      <td>0.464290</td>\n",
       "      <td>-0.323158</td>\n",
       "      <td>-0.063508</td>\n",
       "      <td>-0.087564</td>\n",
       "      <td>1.000000</td>\n",
       "    </tr>\n",
       "  </tbody>\n",
       "</table>\n",
       "</div>"
      ],
      "text/plain": [
       "                       Client Id  Sessions  Avg. Session Duration  \\\n",
       "Client Id               1.000000 -0.007511               0.000379   \n",
       "Sessions               -0.007511  1.000000              -0.180569   \n",
       "Avg. Session Duration   0.000379 -0.180569               1.000000   \n",
       "Bounce Rate            -0.006400  0.181863              -0.174716   \n",
       "Revenue                 0.033550  0.318640               0.033912   \n",
       "Transactions            0.005856  0.542989              -0.020670   \n",
       "Goal Conversion Rate   -0.004590 -0.427249               0.464290   \n",
       "\n",
       "                       Bounce Rate   Revenue  Transactions  \\\n",
       "Client Id                -0.006400  0.033550      0.005856   \n",
       "Sessions                  0.181863  0.318640      0.542989   \n",
       "Avg. Session Duration    -0.174716  0.033912     -0.020670   \n",
       "Bounce Rate               1.000000  0.033386      0.026292   \n",
       "Revenue                   0.033386  1.000000      0.384126   \n",
       "Transactions              0.026292  0.384126      1.000000   \n",
       "Goal Conversion Rate     -0.323158 -0.063508     -0.087564   \n",
       "\n",
       "                       Goal Conversion Rate  \n",
       "Client Id                         -0.004590  \n",
       "Sessions                          -0.427249  \n",
       "Avg. Session Duration              0.464290  \n",
       "Bounce Rate                       -0.323158  \n",
       "Revenue                           -0.063508  \n",
       "Transactions                      -0.087564  \n",
       "Goal Conversion Rate               1.000000  "
      ]
     },
     "execution_count": 17,
     "metadata": {},
     "output_type": "execute_result"
    }
   ],
   "source": [
    "# lets look at the correlation between the variables\n",
    "df.corr()"
   ]
  },
  {
   "cell_type": "markdown",
   "metadata": {},
   "source": [
    "There is a small negative correlation between Sessions and Avg. Session Duration, this might mean that, even though users visiting the site, they are not consuming the content on the site. \n",
    "\n",
    "There is a positive and medium correlation between Sessions and Transaction and Sessions and Revenue. Even though users not engaging with the content, the visits to the site has a positive impact to the transactions and revenue. \n",
    "\n",
    "There is a medium negative correlation between goal conversion rate and sessions, alsp positive medium correlation with avg. session duration. Our goal converstion seems to be set up based on avg. session duration of the user."
   ]
  },
  {
   "cell_type": "code",
   "execution_count": 20,
   "metadata": {},
   "outputs": [
    {
     "data": {
      "image/png": "[encoded data removed]",
      "text/plain": [
       "<Figure size 432x288 with 9 Axes>"
      ]
     },
     "metadata": {
      "needs_background": "light"
     },
     "output_type": "display_data"
    }
   ],
   "source": [
    "# Lets visualize some of our findings\n",
    "# import neccessary libraries\n",
    "import matplotlib.pyplot as plt\n",
    "%matplotlib inline\n",
    "import seaborn as sns\n",
    "df.hist()\n",
    "plt.show()"
   ]
  },
  {
   "cell_type": "code",
   "execution_count": 28,
   "metadata": {},
   "outputs": [
    {
     "data": {
      "image/png": "[encoded data removed]",
      "text/plain": [
       "<Figure size 1200x800 with 1 Axes>"
      ]
     },
     "metadata": {
      "needs_background": "light"
     },
     "output_type": "display_data"
    }
   ],
   "source": [
    "# Lets use scatter plot to visualize the relationship\n",
    "plt.figure(figsize=(15,10), dpi=80)\n",
    "plt.scatter(df[['Sessions']], df[['Avg. Session Duration']], color='orange')\n",
    "\n",
    "plt.title('Sessions vs Avg. Session Duration')\n",
    "plt.xlabel('Sessions')\n",
    "plt.ylabel('Avg. Session Duration')\n",
    "\n",
    "plt.show()"
   ]
  },
  {
   "cell_type": "code",
   "execution_count": 29,
   "metadata": {},
   "outputs": [
    {
     "data": {
      "image/png": "[encoded data removed]",
      "text/plain": [
       "<Figure size 1200x800 with 1 Axes>"
      ]
     },
     "metadata": {
      "needs_background": "light"
     },
     "output_type": "display_data"
    }
   ],
   "source": [
    "plt.figure(figsize=(15,10), dpi=80)\n",
    "plt.scatter(df[['Sessions']], df[['Revenue']], color='blue')\n",
    "\n",
    "plt.title('Sessions vs Revenue')\n",
    "plt.xlabel('Sessions')\n",
    "plt.ylabel('Revenue')\n",
    "\n",
    "plt.show()"
   ]
  },
  {
   "cell_type": "markdown",
   "metadata": {},
   "source": [
    "We are definately seeing the positive relation betwen Sessions and Revenue. We see Revenue amount being over 50,000 on one particular user engagement with around 140 sessions. However the linear relationship is not very strong. We have Sessions more than 250 however the revenue is around $10,000."
   ]
  },
  {
   "cell_type": "code",
   "execution_count": 30,
   "metadata": {},
   "outputs": [
    {
     "data": {
      "image/png": "[encoded data removed]",
      "text/plain": [
       "<Figure size 1200x800 with 1 Axes>"
      ]
     },
     "metadata": {
      "needs_background": "light"
     },
     "output_type": "display_data"
    }
   ],
   "source": [
    "plt.figure(figsize=(15,10), dpi=80)\n",
    "plt.scatter(df[['Goal Conversion Rate']], df[['Revenue']], color='red')\n",
    "\n",
    "plt.title('Goal Conversion Rate vs Revenue')\n",
    "plt.xlabel('Goal Conversion Rate')\n",
    "plt.ylabel('Revenue')\n",
    "\n",
    "plt.show()"
   ]
  },
  {
   "cell_type": "markdown",
   "metadata": {},
   "source": [
    "The Goal Conversion Rate and Revenue has almost no correlation. If there is any it is negative. This might mean that the Revenue metric is not set up as part of the website Goals hence the output does not show any correlation. "
   ]
  },
  {
   "cell_type": "markdown",
   "metadata": {},
   "source": [
    "# Model Development"
   ]
  },
  {
   "cell_type": "code",
   "execution_count": 32,
   "metadata": {},
   "outputs": [],
   "source": [
    "# lets split the data for 80% train and 20% set\n",
    "msk=np.random.rand(len(df))<0.8\n",
    "train=df[msk]\n",
    "test=df[~msk]"
   ]
  },
  {
   "cell_type": "code",
   "execution_count": 35,
   "metadata": {},
   "outputs": [
    {
     "data": {
      "image/png": "[encoded data removed]",
      "text/plain": [
       "<Figure size 1200x800 with 1 Axes>"
      ]
     },
     "metadata": {
      "needs_background": "light"
     },
     "output_type": "display_data"
    }
   ],
   "source": [
    "# train the data distribution\n",
    "plt.figure(figsize=(15,10), dpi=80)\n",
    "plt.scatter(train['Sessions'], train['Revenue'], color='blue')\n",
    "plt.title('Training the Data Distribution for Sessions and Revenue')\n",
    "plt.xlabel('Sessions')\n",
    "plt.ylabel('Revenue')\n",
    "plt.show()"
   ]
  },
  {
   "cell_type": "code",
   "execution_count": 36,
   "metadata": {},
   "outputs": [],
   "source": [
    "# Lets create our model (first import neccessary libraries)\n",
    "from sklearn import linear_model"
   ]
  },
  {
   "cell_type": "code",
   "execution_count": 37,
   "metadata": {},
   "outputs": [],
   "source": [
    "regr=linear_model.LinearRegression()"
   ]
  },
  {
   "cell_type": "code",
   "execution_count": 38,
   "metadata": {},
   "outputs": [],
   "source": [
    "train_x=np.asanyarray(train[['Sessions']])\n",
    "train_y=np.asanyarray(train[['Revenue']])"
   ]
  },
  {
   "cell_type": "code",
   "execution_count": 39,
   "metadata": {},
   "outputs": [
    {
     "data": {
      "text/plain": [
       "LinearRegression(copy_X=True, fit_intercept=True, n_jobs=None, normalize=False)"
      ]
     },
     "execution_count": 39,
     "metadata": {},
     "output_type": "execute_result"
    }
   ],
   "source": [
    "regr.fit(train_x, train_y)"
   ]
  },
  {
   "cell_type": "code",
   "execution_count": 41,
   "metadata": {},
   "outputs": [
    {
     "name": "stdout",
     "output_type": "stream",
     "text": [
      "[[32.25248928]]\n",
      "[431.8813446]\n"
     ]
    }
   ],
   "source": [
    "# lets see the coefficient and the intercept values\n",
    "print(regr.coef_)\n",
    "print(regr.intercept_)"
   ]
  },
  {
   "cell_type": "code",
   "execution_count": 44,
   "metadata": {},
   "outputs": [
    {
     "data": {
      "text/plain": [
       "Text(0, 0.5, 'Revenue')"
      ]
     },
     "execution_count": 44,
     "metadata": {},
     "output_type": "execute_result"
    },
    {
     "data": {
      "image/png": "[encoded data removed]",
      "text/plain": [
       "<Figure size 1200x800 with 1 Axes>"
      ]
     },
     "metadata": {
      "needs_background": "light"
     },
     "output_type": "display_data"
    }
   ],
   "source": [
    "#Lets look at the outputs based on our model\n",
    "plt.figure(figsize=(15,10), dpi=80)\n",
    "plt.scatter(train['Sessions'], train['Revenue'], color='blue')\n",
    "plt.plot(train_x, regr.coef_[0][0]*train_x +regr.intercept_[0], '-r')\n",
    "plt.xlabel('Sessions')\n",
    "plt.ylabel('Revenue')"
   ]
  },
  {
   "cell_type": "markdown",
   "metadata": {},
   "source": [
    "# Model Evaluation"
   ]
  },
  {
   "cell_type": "markdown",
   "metadata": {},
   "source": [
    "To evaluate the simple linear regression model we created we can look at the mean absoulute error (MAE), mean squared error(MSE), Root Mean Squared Error(RMSE)."
   ]
  },
  {
   "cell_type": "code",
   "execution_count": 45,
   "metadata": {},
   "outputs": [],
   "source": [
    "# import neccessary libraries\n",
    "from sklearn.metrics import r2_score"
   ]
  },
  {
   "cell_type": "code",
   "execution_count": 46,
   "metadata": {},
   "outputs": [
    {
     "name": "stdout",
     "output_type": "stream",
     "text": [
      "Mean absolute error: 423.49\n",
      "Residual sum of squares (MSE): 888085.32\n",
      "R2-score: -5.30\n"
     ]
    }
   ],
   "source": [
    "test_x = np.asanyarray(test[['Sessions']])\n",
    "test_y = np.asanyarray(test[['Revenue']])\n",
    "test_y_hat = regr.predict(test_x)\n",
    "\n",
    "print(\"Mean absolute error: %.2f\" % np.mean(np.absolute(test_y_hat - test_y)))\n",
    "print(\"Residual sum of squares (MSE): %.2f\" % np.mean((test_y_hat - test_y) ** 2))\n",
    "print(\"R2-score: %.2f\" % r2_score(test_y_hat , test_y) )"
   ]
  },
  {
   "cell_type": "markdown",
   "metadata": {},
   "source": [
    "# Conclusion\n",
    "After analyzing the site metrics and user engagement, we see that there are correlations between Sessions / Revenue and Sessions / Avg. Session Durations, however the correlation is weak. Avg. Session Durations shows us that, the users are visiting the website, however not engaging with the content. This might be due to content not being updated often. New content with updated release calender can increase the Avg.Session Durations. \n",
    "\n",
    "Another insight we see is that, Avg. Session Durations does not have any impact to the revenue and the transaction. This means the transactions are due to direct page visit for conversion. This might be because of Paid or other Campaigns directing users to the site just to make a purchase rather than engaging with the website content. \n",
    "\n",
    "Based on our analysis, we recommend to create new content for further engagement, possibly exploring replacement of Paid Campaigns with imprvement of organic search for acqusition. Goal Conversion Rate has almost no correlation with the Revenue metric. If the business goal is to increase revenue through the website, the goals set up in GA360 should be updated to reflect the actual business objective.\n",
    "\n",
    "Creating a predictive model using simple linear regression is possible and easy to execute using Sessions and Revenue however, the correlation between these two variables are not strong enough to create an accurate model. The negative R2 score indicates that the predictive model we created by training 80% of the data set and using 20% as test data is not a good and needs further improvement."
   ]
  },
  {
   "cell_type": "code",
   "execution_count": null,
   "metadata": {},
   "outputs": [],
   "source": []
  }
 ],
 "metadata": {
  "kernelspec": {
   "display_name": "Python 3",
   "language": "python",
   "name": "python3"
  },
  "language_info": {
   "codemirror_mode": {
    "name": "ipython",
    "version": 3
   },
   "file_extension": ".py",
   "mimetype": "text/x-python",
   "name": "python",
   "nbconvert_exporter": "python",
   "pygments_lexer": "ipython3",
   "version": "3.7.3"
  }
 },
 "nbformat": 4,
 "nbformat_minor": 2
}
